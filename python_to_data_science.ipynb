{
  "nbformat": 4,
  "nbformat_minor": 0,
  "metadata": {
    "colab": {
      "name": "python_to_data_science.ipynb",
      "provenance": [],
      "collapsed_sections": [
        "-jIYQFvPuvq7",
        "Mf0b65aScyXH",
        "rmEqg4YCkdYC",
        "E-dutWEnlJUl"
      ],
      "authorship_tag": "ABX9TyOfky5y2pqeYHYfMtoC7Knt",
      "include_colab_link": true
    },
    "kernelspec": {
      "display_name": "Python 3",
      "name": "python3"
    },
    "language_info": {
      "name": "python"
    }
  },
  "cells": [
    {
      "cell_type": "markdown",
      "metadata": {
        "id": "view-in-github",
        "colab_type": "text"
      },
      "source": [
        "<a href=\"https://colab.research.google.com/github/victorradael/data_science/blob/main/python_to_data_science.ipynb\" target=\"_parent\"><img src=\"https://colab.research.google.com/assets/colab-badge.svg\" alt=\"Open In Colab\"/></a>"
      ]
    },
    {
      "cell_type": "markdown",
      "metadata": {
        "id": "NztsXGEfwsUa"
      },
      "source": [
        "O conjunto de dados utilizado fornece avaliações de pacientes sobre medicamentos\n",
        "específicos, juntamente com condições relacionadas e uma classificação de 0 a 10 estrelas para\n",
        "indicar a satisfação geral do paciente. Os dados foram obtidos rastreando sites de revisão\n",
        "farmacêutica online. a intenção era estudar a análise de sentimento da experiência com o\n",
        "medicamento em múltiplas facetas, ou seja, sentimentos aprendidos sobre aspectos específicos,\n",
        "como eficácia e efeitos colaterais, a transferibilidade de modelos entre domínios, ou seja, condições,\n",
        "e a possibilidade de transferência de modelos entre diferentes fontes de dados.\n"
      ]
    },
    {
      "cell_type": "markdown",
      "metadata": {
        "id": "iQYxgIV5w8jy"
      },
      "source": [
        "A base de dados utilizada foi retirada do repositório da UCI Machine Learning Repository[1]\n",
        "do Conjunto de Dados Drug Review Dataset[2] (Drugs.com)[3]. Os dados foram divididos em um\n",
        "trem (75%), uma partição de teste (25%) e armazenados em dois arquivos .tsv (valores separados\n",
        "por tabulação), respectivamente. As colunas foram separadas em Nome do medicamento\n",
        "(categórico): nome do medicamento, condição (categórica): nome da condição, revisão (texto):\n",
        "revisão do paciente, classificação (numérica): classificação do paciente de 0 a10 estrelas, data\n",
        "(data): data da entrada da revisão, conta útil (numérica): número de usuários que acharam a\n",
        "avaliação útil"
      ]
    },
    {
      "cell_type": "markdown",
      "metadata": {
        "id": "4oVuMEVHxBhL"
      },
      "source": [
        "O objetivo da análise é poder levantar a eficácia dos medicamentos dentro de cada grupo de\n",
        "condição além de relacionar o aumento ou diminuição do consumo de determinado tipo de\n",
        "medicamento no decorrer do tempo."
      ]
    },
    {
      "cell_type": "markdown",
      "metadata": {
        "id": "nf4wxDtvsAVc"
      },
      "source": [
        "## 📚 Importando as bibliotecas"
      ]
    },
    {
      "cell_type": "code",
      "metadata": {
        "colab": {
          "base_uri": "https://localhost:8080/"
        },
        "id": "a6_22byyXJFE",
        "outputId": "f83cf96d-3728-4e8a-8514-872fa96674d2"
      },
      "source": [
        "import pandas as pd\n",
        "%matplotlib inline\n",
        "%pylab inline\n",
        "import matplotlib.pyplot as plt\n",
        "import seaborn as sns\n",
        "plt.style.use('ggplot')"
      ],
      "execution_count": 264,
      "outputs": [
        {
          "output_type": "stream",
          "name": "stdout",
          "text": [
            "Populating the interactive namespace from numpy and matplotlib\n"
          ]
        }
      ]
    },
    {
      "cell_type": "markdown",
      "metadata": {
        "id": "-jIYQFvPuvq7"
      },
      "source": [
        "## 🌀 Carregando o dataset "
      ]
    },
    {
      "cell_type": "code",
      "metadata": {
        "id": "KsJcd45nw4zQ"
      },
      "source": [
        "dataset = pd.read_csv('drugsComTrain_raw.tsv', sep='\\t', header=0)"
      ],
      "execution_count": 265,
      "outputs": []
    },
    {
      "cell_type": "markdown",
      "metadata": {
        "id": "j0qDkOQ-y1_z"
      },
      "source": [
        "### ⚓ Descrevendo o dataset:\n",
        "1. drugName (categorical): Nome da Droga\n",
        "2. condition (categorical): Nome da Condição ou Doença\n",
        "3. review (text): Avaliação do Usuário\n",
        "4. rating (numerical): Nota do Usuário\n",
        "5. date (date): Data da Avaliação\n",
        "6. usefulCount (numerical): Número de pessoas que acharam essa avaliação útil  "
      ]
    },
    {
      "cell_type": "markdown",
      "metadata": {
        "id": "Khr7_cCPvEmz"
      },
      "source": [
        "## 🐾 Mostrando os cinco primeiro elementos do dataset "
      ]
    },
    {
      "cell_type": "markdown",
      "metadata": {
        "id": "vgns9MdIbYiN"
      },
      "source": [
        "#### 📑 Organizando o dataset:"
      ]
    },
    {
      "cell_type": "code",
      "metadata": {
        "id": "XgnV5TRD3ugA"
      },
      "source": [
        "del dataset['review']\n",
        "del dataset['Unnamed: 0']"
      ],
      "execution_count": 266,
      "outputs": []
    },
    {
      "cell_type": "code",
      "metadata": {
        "colab": {
          "base_uri": "https://localhost:8080/",
          "height": 204
        },
        "id": "-cXY_JMbw_zO",
        "outputId": "492f3bdf-f09e-4495-e7a9-768b74f17259"
      },
      "source": [
        "dataset_train.head().T"
      ],
      "execution_count": 267,
      "outputs": [
        {
          "output_type": "execute_result",
          "data": {
            "text/html": [
              "<div>\n",
              "<style scoped>\n",
              "    .dataframe tbody tr th:only-of-type {\n",
              "        vertical-align: middle;\n",
              "    }\n",
              "\n",
              "    .dataframe tbody tr th {\n",
              "        vertical-align: top;\n",
              "    }\n",
              "\n",
              "    .dataframe thead th {\n",
              "        text-align: right;\n",
              "    }\n",
              "</style>\n",
              "<table border=\"1\" class=\"dataframe\">\n",
              "  <thead>\n",
              "    <tr style=\"text-align: right;\">\n",
              "      <th></th>\n",
              "      <th>0</th>\n",
              "      <th>1</th>\n",
              "      <th>2</th>\n",
              "      <th>3</th>\n",
              "      <th>4</th>\n",
              "    </tr>\n",
              "  </thead>\n",
              "  <tbody>\n",
              "    <tr>\n",
              "      <th>drugName</th>\n",
              "      <td>Valsartan</td>\n",
              "      <td>Guanfacine</td>\n",
              "      <td>Lybrel</td>\n",
              "      <td>Ortho Evra</td>\n",
              "      <td>Buprenorphine / naloxone</td>\n",
              "    </tr>\n",
              "    <tr>\n",
              "      <th>condition</th>\n",
              "      <td>Left Ventricular Dysfunction</td>\n",
              "      <td>ADHD</td>\n",
              "      <td>Birth Control</td>\n",
              "      <td>Birth Control</td>\n",
              "      <td>Opiate Dependence</td>\n",
              "    </tr>\n",
              "    <tr>\n",
              "      <th>rating</th>\n",
              "      <td>9</td>\n",
              "      <td>8</td>\n",
              "      <td>5</td>\n",
              "      <td>8</td>\n",
              "      <td>9</td>\n",
              "    </tr>\n",
              "    <tr>\n",
              "      <th>date</th>\n",
              "      <td>May 20, 2012</td>\n",
              "      <td>April 27, 2010</td>\n",
              "      <td>December 14, 2009</td>\n",
              "      <td>November 3, 2015</td>\n",
              "      <td>November 27, 2016</td>\n",
              "    </tr>\n",
              "    <tr>\n",
              "      <th>usefulCount</th>\n",
              "      <td>27</td>\n",
              "      <td>192</td>\n",
              "      <td>17</td>\n",
              "      <td>10</td>\n",
              "      <td>37</td>\n",
              "    </tr>\n",
              "  </tbody>\n",
              "</table>\n",
              "</div>"
            ],
            "text/plain": [
              "                                        0  ...                         4\n",
              "drugName                        Valsartan  ...  Buprenorphine / naloxone\n",
              "condition    Left Ventricular Dysfunction  ...         Opiate Dependence\n",
              "rating                                  9  ...                         9\n",
              "date                         May 20, 2012  ...         November 27, 2016\n",
              "usefulCount                            27  ...                        37\n",
              "\n",
              "[5 rows x 5 columns]"
            ]
          },
          "metadata": {},
          "execution_count": 267
        }
      ]
    },
    {
      "cell_type": "markdown",
      "metadata": {
        "id": "VJEWTsOad91l"
      },
      "source": [
        "## ✈ Organizando os Dados"
      ]
    },
    {
      "cell_type": "markdown",
      "metadata": {
        "id": "oohEd0_tbwTi"
      },
      "source": [
        "#### 📑 Definindo as condições mais comuns:"
      ]
    },
    {
      "cell_type": "code",
      "metadata": {
        "colab": {
          "base_uri": "https://localhost:8080/"
        },
        "id": "e-FDbqhp0OMz",
        "outputId": "3b2aca8d-cacc-4568-d72d-e40e12375a8d"
      },
      "source": [
        "dataset[u'condition'].value_counts() "
      ],
      "execution_count": 268,
      "outputs": [
        {
          "output_type": "execute_result",
          "data": {
            "text/plain": [
              "Birth Control                                  28788\n",
              "Depression                                      9069\n",
              "Pain                                            6145\n",
              "Anxiety                                         5904\n",
              "Acne                                            5588\n",
              "                                               ...  \n",
              "Parkinsonian Trem                                  1\n",
              "Bartonellosis                                      1\n",
              "acial Lipoatrophy                                  1\n",
              "Amyotrophic Lateral Sclerosis                      1\n",
              "92</span> users found this comment helpful.        1\n",
              "Name: condition, Length: 884, dtype: int64"
            ]
          },
          "metadata": {},
          "execution_count": 268
        }
      ]
    },
    {
      "cell_type": "code",
      "metadata": {
        "colab": {
          "base_uri": "https://localhost:8080/"
        },
        "id": "jArrsDGsg7oS",
        "outputId": "2a01cd21-ba39-4a94-cb05-ecd699e79fd9"
      },
      "source": [
        "df_filtered =dataset[dataset['condition'].isin(['Birth Control', 'Depression', 'Pain', 'Anxiety' ])]\n",
        "df_filtered[u'condition'].value_counts() "
      ],
      "execution_count": 269,
      "outputs": [
        {
          "output_type": "execute_result",
          "data": {
            "text/plain": [
              "Birth Control    28788\n",
              "Depression        9069\n",
              "Pain              6145\n",
              "Anxiety           5904\n",
              "Name: condition, dtype: int64"
            ]
          },
          "metadata": {},
          "execution_count": 269
        }
      ]
    },
    {
      "cell_type": "markdown",
      "metadata": {
        "id": "Ctv3Nq5pcYJa"
      },
      "source": [
        "#### 📑 Separando o dataset em condições:"
      ]
    },
    {
      "cell_type": "code",
      "metadata": {
        "id": "Kf4yqm5EOF3s"
      },
      "source": [
        "df_birthcontrol = df_filtered[df_filtered['condition']=='Birth Control']\n",
        "df_depression = df_filtered[df_filtered['condition']=='Depression']\n",
        "df_pain = df_filtered[df_filtered['condition']=='Pain']\n",
        "df_anxiety = df_filtered[df_filtered['condition']=='Anxiety']"
      ],
      "execution_count": 270,
      "outputs": []
    },
    {
      "cell_type": "markdown",
      "metadata": {
        "id": "c1Xs6xfgly8k"
      },
      "source": [
        "# 🏎 Analisando as condições mais populares:"
      ]
    },
    {
      "cell_type": "markdown",
      "metadata": {
        "id": "Mf0b65aScyXH"
      },
      "source": [
        "## ⚕ Analisando a eficiência dos medicamentos para Controle de Natalidade:"
      ]
    },
    {
      "cell_type": "code",
      "metadata": {
        "id": "4diO8LcnQtwq"
      },
      "source": [
        "efficient_birth_control = df_birthcontrol[df_birthcontrol['rating'].isin([10.0, 9.0 ])]"
      ],
      "execution_count": 271,
      "outputs": []
    },
    {
      "cell_type": "markdown",
      "metadata": {
        "id": "rNDjDQ15dIYZ"
      },
      "source": [
        "##### 📑 Definindo os medicamentos mais eficientes:"
      ]
    },
    {
      "cell_type": "code",
      "metadata": {
        "colab": {
          "base_uri": "https://localhost:8080/"
        },
        "id": "ecR3rp2TTE2X",
        "outputId": "6f425df3-ec39-4fe7-c314-3ee8a722bfde"
      },
      "source": [
        "efficient_birth_control['drugName'].value_counts()"
      ],
      "execution_count": 272,
      "outputs": [
        {
          "output_type": "execute_result",
          "data": {
            "text/plain": [
              "Etonogestrel                          1044\n",
              "Levonorgestrel                        1000\n",
              "Ethinyl estradiol / norethindrone      732\n",
              "Nexplanon                              647\n",
              "Ethinyl estradiol / levonorgestrel     519\n",
              "                                      ... \n",
              "Provera                                  1\n",
              "Nikki                                    1\n",
              "Mircette                                 1\n",
              "Tri-Linyah                               1\n",
              "Junel Fe 24                              1\n",
              "Name: drugName, Length: 143, dtype: int64"
            ]
          },
          "metadata": {},
          "execution_count": 272
        }
      ]
    },
    {
      "cell_type": "code",
      "metadata": {
        "colab": {
          "base_uri": "https://localhost:8080/"
        },
        "id": "nOLWbBTeTvcr",
        "outputId": "20e3e751-afbc-4bff-aab7-b4e3fe5ecdc9"
      },
      "source": [
        "efficient_birth_control = efficient_birth_control[efficient_birth_control['drugName'].isin(['Etonogestrel', 'Levonorgestrel', 'Ethinyl estradiol / norethindrone', 'Nexplanon' ])]\n",
        "efficient_birth_control['drugName'].value_counts()"
      ],
      "execution_count": 273,
      "outputs": [
        {
          "output_type": "execute_result",
          "data": {
            "text/plain": [
              "Etonogestrel                         1044\n",
              "Levonorgestrel                       1000\n",
              "Ethinyl estradiol / norethindrone     732\n",
              "Nexplanon                             647\n",
              "Name: drugName, dtype: int64"
            ]
          },
          "metadata": {},
          "execution_count": 273
        }
      ]
    },
    {
      "cell_type": "code",
      "metadata": {
        "colab": {
          "base_uri": "https://localhost:8080/"
        },
        "id": "3KDV1nbShixH",
        "outputId": "08cb3a2f-07ae-4566-9020-466f0783f9d9"
      },
      "source": [
        "efficient_birth_control.groupby('rating')[u'drugName'].value_counts()"
      ],
      "execution_count": 274,
      "outputs": [
        {
          "output_type": "execute_result",
          "data": {
            "text/plain": [
              "rating  drugName                         \n",
              "9.0     Levonorgestrel                       416\n",
              "        Etonogestrel                         403\n",
              "        Ethinyl estradiol / norethindrone    328\n",
              "        Nexplanon                            253\n",
              "10.0    Etonogestrel                         641\n",
              "        Levonorgestrel                       584\n",
              "        Ethinyl estradiol / norethindrone    404\n",
              "        Nexplanon                            394\n",
              "Name: drugName, dtype: int64"
            ]
          },
          "metadata": {},
          "execution_count": 274
        }
      ]
    },
    {
      "cell_type": "code",
      "metadata": {
        "colab": {
          "base_uri": "https://localhost:8080/",
          "height": 0
        },
        "id": "pYxvRCZuj6we",
        "outputId": "ce604ca8-8f3b-4167-8b81-a5ca45ec7299"
      },
      "source": [
        "df2 = efficient_birth_control[efficient_birth_control['rating']==10.0]\n",
        "df2.groupby(u'drugName')['rating'].value_counts().plot.barh()"
      ],
      "execution_count": 277,
      "outputs": [
        {
          "output_type": "execute_result",
          "data": {
            "text/plain": [
              "<matplotlib.axes._subplots.AxesSubplot at 0x7fbcad598e50>"
            ]
          },
          "metadata": {},
          "execution_count": 277
        },
        {
          "output_type": "display_data",
          "data": {
            "image/png": "[encoded data removed]",
            "text/plain": [
              "<Figure size 432x288 with 1 Axes>"
            ]
          },
          "metadata": {}
        }
      ]
    },
    {
      "cell_type": "markdown",
      "metadata": {
        "id": "rmEqg4YCkdYC"
      },
      "source": [
        "## ⚕ Analisando a eficiência dos medicamentos para Depressão:"
      ]
    },
    {
      "cell_type": "code",
      "metadata": {
        "id": "6KBYoFrPkdYL"
      },
      "source": [
        "efficient_depression = df_depression[df_depression['rating'].isin([10.0, 9.0 ])]"
      ],
      "execution_count": 278,
      "outputs": []
    },
    {
      "cell_type": "markdown",
      "metadata": {
        "id": "HjyjIxq7kdYL"
      },
      "source": [
        "##### 📑 Definindo os medicamentos mais eficientes:"
      ]
    },
    {
      "cell_type": "code",
      "metadata": {
        "colab": {
          "base_uri": "https://localhost:8080/"
        },
        "id": "TbrS_tSzkdYL",
        "outputId": "e0c14731-3ca8-4b71-c866-643bd42b519e"
      },
      "source": [
        "efficient_depression['drugName'].value_counts()"
      ],
      "execution_count": 279,
      "outputs": [
        {
          "output_type": "execute_result",
          "data": {
            "text/plain": [
              "Bupropion         271\n",
              "Sertraline        216\n",
              "Desvenlafaxine    198\n",
              "Pristiq           196\n",
              "Escitalopram      195\n",
              "                 ... \n",
              "Xanax XR            1\n",
              "Maprotiline         1\n",
              "Aplenzin            1\n",
              "Atomoxetine         1\n",
              "Paliperidone        1\n",
              "Name: drugName, Length: 100, dtype: int64"
            ]
          },
          "metadata": {},
          "execution_count": 279
        }
      ]
    },
    {
      "cell_type": "code",
      "metadata": {
        "colab": {
          "base_uri": "https://localhost:8080/"
        },
        "id": "Hlbtvh7qkdYM",
        "outputId": "26635186-d972-4b28-a89f-69f1aa422859"
      },
      "source": [
        "efficient_depression = efficient_depression[efficient_depression['drugName'].isin(['Bupropion', 'Sertraline', 'Desvenlafaxine', 'Pristiq' ])]\n",
        "efficient_depression['drugName'].value_counts()"
      ],
      "execution_count": 280,
      "outputs": [
        {
          "output_type": "execute_result",
          "data": {
            "text/plain": [
              "Bupropion         271\n",
              "Sertraline        216\n",
              "Desvenlafaxine    198\n",
              "Pristiq           196\n",
              "Name: drugName, dtype: int64"
            ]
          },
          "metadata": {},
          "execution_count": 280
        }
      ]
    },
    {
      "cell_type": "code",
      "metadata": {
        "colab": {
          "base_uri": "https://localhost:8080/"
        },
        "id": "SXmCi8sKkdYM",
        "outputId": "63369dd1-805f-4533-be8b-9dcbdfa841df"
      },
      "source": [
        "efficient_depression.groupby('rating')[u'drugName'].value_counts()"
      ],
      "execution_count": 281,
      "outputs": [
        {
          "output_type": "execute_result",
          "data": {
            "text/plain": [
              "rating  drugName      \n",
              "9.0     Bupropion         113\n",
              "        Sertraline         90\n",
              "        Pristiq            85\n",
              "        Desvenlafaxine     83\n",
              "10.0    Bupropion         158\n",
              "        Sertraline        126\n",
              "        Desvenlafaxine    115\n",
              "        Pristiq           111\n",
              "Name: drugName, dtype: int64"
            ]
          },
          "metadata": {},
          "execution_count": 281
        }
      ]
    },
    {
      "cell_type": "code",
      "metadata": {
        "colab": {
          "base_uri": "https://localhost:8080/",
          "height": 0
        },
        "id": "McBTsIBYkdYM",
        "outputId": "f9a7d2be-0a83-4d64-cf1d-fb11e4785a74"
      },
      "source": [
        "df2 = efficient_depression[efficient_depression['rating']==10.0]\n",
        "df2.groupby(u'drugName')['rating'].value_counts().plot.barh()"
      ],
      "execution_count": 282,
      "outputs": [
        {
          "output_type": "execute_result",
          "data": {
            "text/plain": [
              "<matplotlib.axes._subplots.AxesSubplot at 0x7fbcada46490>"
            ]
          },
          "metadata": {},
          "execution_count": 282
        },
        {
          "output_type": "display_data",
          "data": {
            "image/png": "[encoded data removed]",
            "text/plain": [
              "<Figure size 432x288 with 1 Axes>"
            ]
          },
          "metadata": {}
        }
      ]
    },
    {
      "cell_type": "markdown",
      "metadata": {
        "id": "E-dutWEnlJUl"
      },
      "source": [
        "## ⚕ Analisando a eficiência dos medicamentos para Dor:"
      ]
    },
    {
      "cell_type": "code",
      "metadata": {
        "id": "oPZO9jQ2lJUs"
      },
      "source": [
        "efficient_pain = df_pain[df_pain['rating'].isin([10.0, 9.0 ])]"
      ],
      "execution_count": 290,
      "outputs": []
    },
    {
      "cell_type": "markdown",
      "metadata": {
        "id": "2Khpk46slJUt"
      },
      "source": [
        "##### 📑 Definindo os medicamentos mais eficientes:"
      ]
    },
    {
      "cell_type": "code",
      "metadata": {
        "colab": {
          "base_uri": "https://localhost:8080/"
        },
        "id": "zpXIYzPBlJUt",
        "outputId": "8432d540-3a44-45c5-85bf-9c391604a214"
      },
      "source": [
        "efficient_pain['drugName'].value_counts()"
      ],
      "execution_count": 291,
      "outputs": [
        {
          "output_type": "execute_result",
          "data": {
            "text/plain": [
              "Oxycodone                      215\n",
              "Acetaminophen / hydrocodone    186\n",
              "Acetaminophen / oxycodone      174\n",
              "Tramadol                       134\n",
              "Diclofenac                     126\n",
              "                              ... \n",
              "Doans Pills Extra Strength       1\n",
              "Oxyfast                          1\n",
              "Midol PM                         1\n",
              "Lorcet                           1\n",
              "Menthol                          1\n",
              "Name: drugName, Length: 173, dtype: int64"
            ]
          },
          "metadata": {},
          "execution_count": 291
        }
      ]
    },
    {
      "cell_type": "code",
      "metadata": {
        "colab": {
          "base_uri": "https://localhost:8080/"
        },
        "id": "uiMp4baelJUt",
        "outputId": "50902a16-b154-436c-e6bc-38f5b8cb19cb"
      },
      "source": [
        "efficient_pain = efficient_pain[efficient_pain['drugName'].isin(['Oxycodone', 'Acetaminophen / hydrocodone', 'Acetaminophen / oxycodone', 'Tramadol' ])]\n",
        "efficient_pain['drugName'].value_counts()"
      ],
      "execution_count": 292,
      "outputs": [
        {
          "output_type": "execute_result",
          "data": {
            "text/plain": [
              "Oxycodone                      215\n",
              "Acetaminophen / hydrocodone    186\n",
              "Acetaminophen / oxycodone      174\n",
              "Tramadol                       134\n",
              "Name: drugName, dtype: int64"
            ]
          },
          "metadata": {},
          "execution_count": 292
        }
      ]
    },
    {
      "cell_type": "code",
      "metadata": {
        "colab": {
          "base_uri": "https://localhost:8080/"
        },
        "id": "LfBknGKnlJUt",
        "outputId": "7a438419-4c24-44fd-ba5c-cbc4c960e3e8"
      },
      "source": [
        "efficient_pain.groupby('rating')[u'drugName'].value_counts()"
      ],
      "execution_count": 293,
      "outputs": [
        {
          "output_type": "execute_result",
          "data": {
            "text/plain": [
              "rating  drugName                   \n",
              "9.0     Oxycodone                       83\n",
              "        Acetaminophen / hydrocodone     80\n",
              "        Acetaminophen / oxycodone       67\n",
              "        Tramadol                        63\n",
              "10.0    Oxycodone                      132\n",
              "        Acetaminophen / oxycodone      107\n",
              "        Acetaminophen / hydrocodone    106\n",
              "        Tramadol                        71\n",
              "Name: drugName, dtype: int64"
            ]
          },
          "metadata": {},
          "execution_count": 293
        }
      ]
    },
    {
      "cell_type": "code",
      "metadata": {
        "colab": {
          "base_uri": "https://localhost:8080/",
          "height": 0
        },
        "id": "BS1IE1wUlJUt",
        "outputId": "f580bcc7-246e-41cf-ab70-7ea1fb8a8c6d"
      },
      "source": [
        "df2 = efficient_pain[efficient_pain['rating']==10.0]\n",
        "df2.groupby(u'drugName')['rating'].value_counts().plot.barh()"
      ],
      "execution_count": 294,
      "outputs": [
        {
          "output_type": "execute_result",
          "data": {
            "text/plain": [
              "<matplotlib.axes._subplots.AxesSubplot at 0x7fbcada31250>"
            ]
          },
          "metadata": {},
          "execution_count": 294
        },
        {
          "output_type": "display_data",
          "data": {
            "image/png": "[encoded data removed]",
            "text/plain": [
              "<Figure size 432x288 with 1 Axes>"
            ]
          },
          "metadata": {}
        }
      ]
    },
    {
      "cell_type": "markdown",
      "metadata": {
        "id": "ZFuKH5FDmcbw"
      },
      "source": [
        "## ⚕ Analisando a eficiência dos medicamentos para Ansiedade:"
      ]
    },
    {
      "cell_type": "code",
      "metadata": {
        "id": "BFBWjVD7mcb5"
      },
      "source": [
        "efficient_anxiety = df_anxiety[df_anxiety['rating'].isin([10.0, 9.0 ])]"
      ],
      "execution_count": 295,
      "outputs": []
    },
    {
      "cell_type": "markdown",
      "metadata": {
        "id": "N1jFKdVSmcb5"
      },
      "source": [
        "##### 📑 Definindo os medicamentos mais eficientes:"
      ]
    },
    {
      "cell_type": "code",
      "metadata": {
        "colab": {
          "base_uri": "https://localhost:8080/"
        },
        "id": "Ey4JNTtcmcb5",
        "outputId": "3481f121-984d-488e-996e-244593b1dbbf"
      },
      "source": [
        "efficient_anxiety['drugName'].value_counts()"
      ],
      "execution_count": 296,
      "outputs": [
        {
          "output_type": "execute_result",
          "data": {
            "text/plain": [
              "Alprazolam      333\n",
              "Escitalopram    296\n",
              "Clonazepam      285\n",
              "Lexapro         227\n",
              "Xanax           211\n",
              "               ... \n",
              "Stelazine         1\n",
              "Miltown           1\n",
              "Nefazodone        1\n",
              "Compazine         1\n",
              "Tranxene SD       1\n",
              "Name: drugName, Length: 73, dtype: int64"
            ]
          },
          "metadata": {},
          "execution_count": 296
        }
      ]
    },
    {
      "cell_type": "code",
      "metadata": {
        "colab": {
          "base_uri": "https://localhost:8080/"
        },
        "id": "DWiYaP8Vmcb5",
        "outputId": "225030cf-84d4-49de-83ca-1a2fe5c4962c"
      },
      "source": [
        "efficient_anxiety = efficient_anxiety[efficient_anxiety['drugName'].isin(['Alprazolam', 'Escitalopram', 'Clonazepam', 'Lexapro' ])]\n",
        "efficient_anxiety['drugName'].value_counts()"
      ],
      "execution_count": 297,
      "outputs": [
        {
          "output_type": "execute_result",
          "data": {
            "text/plain": [
              "Alprazolam      333\n",
              "Escitalopram    296\n",
              "Clonazepam      285\n",
              "Lexapro         227\n",
              "Name: drugName, dtype: int64"
            ]
          },
          "metadata": {},
          "execution_count": 297
        }
      ]
    },
    {
      "cell_type": "code",
      "metadata": {
        "colab": {
          "base_uri": "https://localhost:8080/"
        },
        "id": "7rZ27NWkmcb6",
        "outputId": "06f22fcc-ccac-48b5-b0f9-c34e8f3be709"
      },
      "source": [
        "efficient_anxiety.groupby('rating')[u'drugName'].value_counts()"
      ],
      "execution_count": 298,
      "outputs": [
        {
          "output_type": "execute_result",
          "data": {
            "text/plain": [
              "rating  drugName    \n",
              "9.0     Escitalopram    116\n",
              "        Lexapro          91\n",
              "        Clonazepam       86\n",
              "        Alprazolam       72\n",
              "10.0    Alprazolam      261\n",
              "        Clonazepam      199\n",
              "        Escitalopram    180\n",
              "        Lexapro         136\n",
              "Name: drugName, dtype: int64"
            ]
          },
          "metadata": {},
          "execution_count": 298
        }
      ]
    },
    {
      "cell_type": "code",
      "metadata": {
        "colab": {
          "base_uri": "https://localhost:8080/",
          "height": 285
        },
        "id": "3ghrowCQmcb6",
        "outputId": "6cc8be89-9c9c-4605-db08-98887a560907"
      },
      "source": [
        "df2 = efficient_anxiety[efficient_anxiety['rating']==10.0]\n",
        "df2.groupby(u'drugName')['rating'].value_counts().plot.barh()"
      ],
      "execution_count": 299,
      "outputs": [
        {
          "output_type": "execute_result",
          "data": {
            "text/plain": [
              "<matplotlib.axes._subplots.AxesSubplot at 0x7fbcacc0c910>"
            ]
          },
          "metadata": {},
          "execution_count": 299
        },
        {
          "output_type": "display_data",
          "data": {
            "image/png": "[encoded data removed]",
            "text/plain": [
              "<Figure size 432x288 with 1 Axes>"
            ]
          },
          "metadata": {}
        }
      ]
    },
    {
      "cell_type": "markdown",
      "metadata": {
        "id": "BYBZlZG6nBou"
      },
      "source": [
        "# 📅 Analisando o consumo de medicamentos no decorrer do tempo:"
      ]
    },
    {
      "cell_type": "code",
      "metadata": {
        "colab": {
          "base_uri": "https://localhost:8080/",
          "height": 359
        },
        "id": "Ygu2s28gnNim",
        "outputId": "4a76e7ab-b84c-4d5e-a393-ed144f71fd11"
      },
      "source": [
        "df = dataset['date'].value_counts().reset_index()\n",
        "df['index'] = df['index'].astype('datetime64')\n",
        "df['date'] = df['date'].astype('int')\n",
        "\n",
        "#crio uma coluna year\n",
        "df['year'] = df['index'].map(lambda x: x.year )\n",
        "\n",
        "#junto pelo year igual somando a date\n",
        "df = df.groupby(['year']).sum().reset_index()\n",
        "df"
      ],
      "execution_count": 345,
      "outputs": [
        {
          "output_type": "execute_result",
          "data": {
            "text/html": [
              "<div>\n",
              "<style scoped>\n",
              "    .dataframe tbody tr th:only-of-type {\n",
              "        vertical-align: middle;\n",
              "    }\n",
              "\n",
              "    .dataframe tbody tr th {\n",
              "        vertical-align: top;\n",
              "    }\n",
              "\n",
              "    .dataframe thead th {\n",
              "        text-align: right;\n",
              "    }\n",
              "</style>\n",
              "<table border=\"1\" class=\"dataframe\">\n",
              "  <thead>\n",
              "    <tr style=\"text-align: right;\">\n",
              "      <th></th>\n",
              "      <th>year</th>\n",
              "      <th>date</th>\n",
              "    </tr>\n",
              "  </thead>\n",
              "  <tbody>\n",
              "    <tr>\n",
              "      <th>0</th>\n",
              "      <td>2008</td>\n",
              "      <td>5137</td>\n",
              "    </tr>\n",
              "    <tr>\n",
              "      <th>1</th>\n",
              "      <td>2009</td>\n",
              "      <td>11636</td>\n",
              "    </tr>\n",
              "    <tr>\n",
              "      <th>2</th>\n",
              "      <td>2010</td>\n",
              "      <td>8413</td>\n",
              "    </tr>\n",
              "    <tr>\n",
              "      <th>3</th>\n",
              "      <td>2011</td>\n",
              "      <td>11682</td>\n",
              "    </tr>\n",
              "    <tr>\n",
              "      <th>4</th>\n",
              "      <td>2012</td>\n",
              "      <td>10007</td>\n",
              "    </tr>\n",
              "    <tr>\n",
              "      <th>5</th>\n",
              "      <td>2013</td>\n",
              "      <td>12278</td>\n",
              "    </tr>\n",
              "    <tr>\n",
              "      <th>6</th>\n",
              "      <td>2014</td>\n",
              "      <td>12051</td>\n",
              "    </tr>\n",
              "    <tr>\n",
              "      <th>7</th>\n",
              "      <td>2015</td>\n",
              "      <td>27164</td>\n",
              "    </tr>\n",
              "    <tr>\n",
              "      <th>8</th>\n",
              "      <td>2016</td>\n",
              "      <td>34842</td>\n",
              "    </tr>\n",
              "    <tr>\n",
              "      <th>9</th>\n",
              "      <td>2017</td>\n",
              "      <td>28087</td>\n",
              "    </tr>\n",
              "  </tbody>\n",
              "</table>\n",
              "</div>"
            ],
            "text/plain": [
              "   year   date\n",
              "0  2008   5137\n",
              "1  2009  11636\n",
              "2  2010   8413\n",
              "3  2011  11682\n",
              "4  2012  10007\n",
              "5  2013  12278\n",
              "6  2014  12051\n",
              "7  2015  27164\n",
              "8  2016  34842\n",
              "9  2017  28087"
            ]
          },
          "metadata": {},
          "execution_count": 345
        }
      ]
    },
    {
      "cell_type": "code",
      "metadata": {
        "colab": {
          "base_uri": "https://localhost:8080/",
          "height": 285
        },
        "id": "-9Wk_irIpp9K",
        "outputId": "7044107b-42e1-4d81-f275-55221106146d"
      },
      "source": [
        "plt.bar(df['year'], df['date'])\n"
      ],
      "execution_count": 346,
      "outputs": [
        {
          "output_type": "execute_result",
          "data": {
            "text/plain": [
              "<BarContainer object of 10 artists>"
            ]
          },
          "metadata": {},
          "execution_count": 346
        },
        {
          "output_type": "display_data",
          "data": {
            "image/png": "[encoded data removed]",
            "text/plain": [
              "<Figure size 432x288 with 1 Axes>"
            ]
          },
          "metadata": {}
        }
      ]
    }
  ]
}